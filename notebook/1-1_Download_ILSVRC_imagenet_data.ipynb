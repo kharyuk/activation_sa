{
 "cells": [
  {
   "cell_type": "markdown",
   "id": "45ef9729-c162-4d0f-bb4a-8df4ed2fc0b6",
   "metadata": {},
   "source": [
    "# **Downloading data and models**"
   ]
  },
  {
   "cell_type": "markdown",
   "id": "ac3b052f-c935-41ba-82d5-90597550e68b",
   "metadata": {
    "tags": []
   },
   "source": [
    "## Navigation\n",
    "\n",
    "- [**Basic imports and initialization**](#Basic-imports-and-initialization)\n",
    "- [**1. ILSVRC dataset**](#1.-ILSVRC-dataset)\n",
    "- [**2. CNN models**](#2.-CNN-models)"
   ]
  },
  {
   "cell_type": "markdown",
   "id": "f4153e3e-8065-4bcf-96c6-d32391d4cef7",
   "metadata": {
    "tags": []
   },
   "source": [
    "## Basic imports and initialization\n",
    "\n",
    "$\\qquad$ [[Back to top]](#Navigation) $\\qquad$ [[Next part $\\to$]](#1.-ILSVRC-dataset)\n",
    "\n",
    "- [Limiting the hardware resources](#Limiting-the-hardware-resources)\n",
    "- [Initializing Kaggle API](#Initializing-Kaggle-API)\n",
    "- [Setting up variables](#Setting-up-variables)"
   ]
  },
  {
   "cell_type": "markdown",
   "id": "c08d3d54-6d41-4795-9c45-bd5b35e9d696",
   "metadata": {},
   "source": [
    "### Limiting the hardware resources\n",
    "\n",
    "$\\quad$[[Back to section]](#Basic-imports-and-initialization)$\\quad$[[Next subsect.$\\to$]](#Initializing-Kaggle-API)"
   ]
  },
  {
   "cell_type": "markdown",
   "id": "77f98d5b-2a63-430e-bf11-1805349b0abd",
   "metadata": {},
   "source": [
    "To provide easy access to modules stored in the ```../src/``` directory, we use the following workaround:"
   ]
  },
  {
   "cell_type": "code",
   "execution_count": 1,
   "id": "c80c5fd9-accb-49df-b9b6-39191a3d15c8",
   "metadata": {},
   "outputs": [],
   "source": [
    "import sys\n",
    "sys.path.append('../src/')"
   ]
  },
  {
   "cell_type": "markdown",
   "id": "c4e7c077-ad00-416a-84ac-6418efb8a5de",
   "metadata": {},
   "source": [
    "Next, we limit the hardware usage:"
   ]
  },
  {
   "cell_type": "code",
   "execution_count": 2,
   "id": "aa524d52-0f47-4dfc-82dc-c3fc1de9d928",
   "metadata": {},
   "outputs": [
    {
     "name": "stdout",
     "output_type": "stream",
     "text": [
      "[mkl]: set up num_threads=4/4\n"
     ]
    }
   ],
   "source": [
    "# set limitations on hardware\n",
    "import hardware_setup\n",
    "hardware_setup.mkl_set_num_threads(num_threads=4)"
   ]
  },
  {
   "cell_type": "markdown",
   "id": "99d293cf-0c4f-44fc-86ef-0ab16e83f35c",
   "metadata": {},
   "source": [
    "### Initializing Kaggle API\n",
    "\n",
    "[[$\\leftarrow$ Prev. subsect]](#Limiting-the-hardware-resources) $\\quad$[[Back to section]](#Basic-imports-and-initialization)$\\quad$[[Next subsect.$\\to$]](#Setting-up-variables)"
   ]
  },
  {
   "cell_type": "code",
   "execution_count": 3,
   "id": "entitled-shark",
   "metadata": {},
   "outputs": [],
   "source": [
    "import os"
   ]
  },
  {
   "cell_type": "markdown",
   "id": "12c9ae71-59c8-4db2-9e4f-d81b939f7150",
   "metadata": {},
   "source": [
    "Please fill the following environment entries by valid username and password (you need to have your own Kaggle's account):"
   ]
  },
  {
   "cell_type": "code",
   "execution_count": 4,
   "id": "76b9d61b-aed9-4b61-ae5e-47385a6deb80",
   "metadata": {},
   "outputs": [],
   "source": [
    "os.environ['KAGGLE_USERNAME'] = ''\n",
    "os.environ['KAGGLE_KEY'] = ''"
   ]
  },
  {
   "cell_type": "code",
   "execution_count": 5,
   "id": "800689e2-af19-4c4c-baef-9d6e317b9691",
   "metadata": {},
   "outputs": [],
   "source": [
    "from kaggle.api.kaggle_api_extended import KaggleApi"
   ]
  },
  {
   "cell_type": "code",
   "execution_count": 6,
   "id": "45f485f1-73dd-43a7-a3d5-eb19ee1667b1",
   "metadata": {},
   "outputs": [],
   "source": [
    "api = KaggleApi()\n",
    "api.authenticate()"
   ]
  },
  {
   "cell_type": "markdown",
   "id": "bacec25d-ef74-4fd9-9f84-8344d55b4f6c",
   "metadata": {},
   "source": [
    "### Setting up variables\n",
    "\n",
    "[[$\\leftarrow$ Prev. subsect]](#Initializing-Kaggle-API) $\\quad$[[Back to section]](#Basic-imports-and-initialization)$\\quad$"
   ]
  },
  {
   "cell_type": "code",
   "execution_count": 21,
   "id": "83532dee-d2de-4e4d-ac16-d17c7abcb840",
   "metadata": {},
   "outputs": [],
   "source": [
    "model_dirname = '../torch-models'\n",
    "\n",
    "data_dirname = '../data'\n",
    "imagenet_dirname = 'imagenet'\n",
    "imagenet_dirname_path = os.path.join(data_dirname, imagenet_dirname)\n",
    "\n",
    "#imagenet_filename = 'imagenet_object_localization_patched2019.tar.gz'\n",
    "imagenet_filename = 'imagenet-object-localization-challenge.zip'\n",
    "\n",
    "kaggle_ilsvrc_challenge_name = 'imagenet-object-localization-challenge'\n",
    "\n",
    "remove_downloaded_archives = True"
   ]
  },
  {
   "cell_type": "markdown",
   "id": "272358c6-d14d-4998-8a9a-e8070d11df32",
   "metadata": {},
   "source": [
    "## 1. ILSVRC dataset\n",
    "\n",
    "[[$\\leftarrow$ Prev. part]](#Basic-imports-and-initialization) $\\qquad$ [[Back to top]](#Navigation) $\\qquad$ [[Next part $\\to$]](#2.-CNN-models)\n",
    "\n",
    "- [1.1 Download files](#1.1-Download-files)\n",
    "- [1.2 Unpack downloaded files](1.2-Unpack-downloaded-files)\n",
    "- [1.3 Fix structure of the dataset's directory tree](#1.3-Fix-structure-of-the-dataset's-directory-tree)"
   ]
  },
  {
   "cell_type": "markdown",
   "id": "377b767e-ad42-4b27-9224-1159830843ea",
   "metadata": {},
   "source": [
    "The ILSVRC dataset is available at the following page:\n",
    "- https://www.kaggle.com/c/imagenet-object-localization-challenge"
   ]
  },
  {
   "cell_type": "markdown",
   "id": "5ca6dfe0-a4bf-4c41-828a-c1cf0509c134",
   "metadata": {},
   "source": [
    "### 1.1 Download files\n",
    "\n",
    "$\\quad$[[Back to section]](#1.-ILSVRC-dataset)$\\quad$[[Next subsect.$\\to$]](#1.2-Unpack-downloaded-files)\n"
   ]
  },
  {
   "cell_type": "markdown",
   "id": "45f19e0b-9dfb-4f5e-be07-275d3897d76d",
   "metadata": {},
   "source": [
    "In this study we used old version of the data provided by the same Kaggle page:\n",
    "```imagenet_object_localization_patched2019.tar.gz```\n",
    "\n",
    "At the moment, this archive is not available, thus the downloading procedure has been rewritten."
   ]
  },
  {
   "cell_type": "code",
   "execution_count": null,
   "id": "3f25a7d5-add3-4c32-aafb-64bc65a8ef8f",
   "metadata": {},
   "outputs": [],
   "source": [
    "api.competition_download_files(\n",
    "    kaggle_ilsvrc_challenge_name,\n",
    "    path=imagenet_dirname_path\n",
    ")"
   ]
  },
  {
   "cell_type": "markdown",
   "id": "446341ef-934a-4f21-aaf1-2cb039716e9a",
   "metadata": {},
   "source": [
    "### 1.2 Unpack downloaded files\n",
    "\n",
    "[[$\\leftarrow$ Prev. subsect]](#1.1-Download-files) $\\quad$[[Back to section]](#1.-ILSVRC-dataset)$\\quad$[[Next subsect.$\\to$]](#1.3-Fix-structure-of-the-dataset's-directory-tree)"
   ]
  },
  {
   "cell_type": "code",
   "execution_count": 19,
   "id": "3aff93e0-2223-4cbb-8aa3-d6a4e23709b4",
   "metadata": {},
   "outputs": [],
   "source": [
    "imagenet_path = os.path.join(imagenet_dirname_path, imagenet_filename)\n",
    "log_path = os.path.join(imagenet_dirname_path, 'imagenet_unzip.log')\n",
    "#! tar -zxvf {imagenet_path} -C {imagenet_dirname_path} > {log_path}\n",
    "! unzip {imagenet_path} -d {imagenet_dirname_path} > {log_path}\n",
    "if remove_downloaded_archives:\n",
    "    os.remove(imagenet_path)"
   ]
  },
  {
   "cell_type": "markdown",
   "id": "07f703d0-b64c-45c1-887f-a00bdd2f0c96",
   "metadata": {},
   "source": [
    "### 1.3 Fix structure of the dataset's directory tree\n",
    "\n",
    "[[$\\leftarrow$ Prev. subsect]](#1.2-Unpack-downloaded-files) $\\quad$[[Back to section]](#1.-ILSVRC-dataset)$\\quad$"
   ]
  },
  {
   "cell_type": "code",
   "execution_count": null,
   "id": "e330c4ce-d9dd-49b8-89ff-0555f55d7b75",
   "metadata": {},
   "outputs": [],
   "source": [
    "# hotfix, from https://discuss.pytorch.org/t/issues-with-dataloader-for-imagenet-should-\n",
    "# i-use-datasets-imagefolder-or-datasets-imagenet/115742/8\n",
    "current_dirname = os.getcwd()\n",
    "%cd '{imagenet_dirname_path}/ILSVRC/Data/CLS-LOC/val'\n",
    "! wget -qO- https://raw.githubusercontent.com/soumith/imagenetloader.torch/master/valprep.sh | bash\n",
    "! rm -rf .ipynb_checkpoints\n",
    "%cd '{current_dirname}'"
   ]
  },
  {
   "cell_type": "markdown",
   "id": "b4e60d43-42d0-47f9-92ed-0ac896fc30e5",
   "metadata": {},
   "source": [
    "## 2. CNN models\n",
    "\n",
    "[[$\\leftarrow$ Prev. part]](#1.-ILSVRC-dataset) $\\qquad$ [[Back to top]](#Navigation)"
   ]
  },
  {
   "cell_type": "markdown",
   "id": "5acdd70d-c049-4f1c-a34a-8984214f1705",
   "metadata": {},
   "source": [
    "In this study 3 CNN models were considered:\n",
    "- [Alexnet](https://pytorch.org/hub/pytorch_vision_alexnet/)\n",
    "- [VGG11](https://pytorch.org/hub/pytorch_vision_vgg/)\n",
    "- [ResNet18](https://pytorch.org/hub/pytorch_vision_resnet/)"
   ]
  },
  {
   "cell_type": "code",
   "execution_count": 22,
   "id": "ce6e4799-3a69-4185-99b7-036c168f70bb",
   "metadata": {},
   "outputs": [],
   "source": [
    "# alexnet-owt-4df8aa71.pth\n",
    "# resnet18-5c106cde.pth\n",
    "# vgg11-bbd30ac9.pth\n",
    "\n",
    "model_urls = {\n",
    "    'alexnet': 'https://download.pytorch.org/models/alexnet-owt-4df8aa71.pth',\n",
    "    'vgg11': 'https://download.pytorch.org/models/vgg11-bbd30ac9.pth',\n",
    "    'resnet18': 'https://download.pytorch.org/models/resnet18-5c106cde.pth'\n",
    "}"
   ]
  },
  {
   "cell_type": "code",
   "execution_count": null,
   "id": "6ce5e5ff-70ed-4bb7-9520-c44ba3f5297e",
   "metadata": {},
   "outputs": [],
   "source": [
    "os.makedirs(model_dirname, exist_ok=True)\n",
    "for model_name, model_url in model_urls.items():\n",
    "    current_path = os.path.join(model_dirname, model_url.split('/')[-1])\n",
    "    ! wget {model_url} -O {current_path}\n",
    "    print(f'Model {model_name} was successfully downloaded to {current_path}')"
   ]
  }
 ],
 "metadata": {
  "kernelspec": {
   "display_name": "Python 3 (ipykernel)",
   "language": "python",
   "name": "python3"
  },
  "language_info": {
   "codemirror_mode": {
    "name": "ipython",
    "version": 3
   },
   "file_extension": ".py",
   "mimetype": "text/x-python",
   "name": "python",
   "nbconvert_exporter": "python",
   "pygments_lexer": "ipython3",
   "version": "3.11.4"
  }
 },
 "nbformat": 4,
 "nbformat_minor": 5
}
